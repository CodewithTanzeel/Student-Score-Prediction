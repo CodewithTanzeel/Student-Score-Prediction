{
  "nbformat": 4,
  "nbformat_minor": 0,
  "metadata": {
    "colab": {
      "provenance": [],
      "authorship_tag": "ABX9TyOygSo7oF39H3CvS9qtg60C",
      "include_colab_link": true
    },
    "kernelspec": {
      "name": "python3",
      "display_name": "Python 3"
    },
    "language_info": {
      "name": "python"
    }
  },
  "cells": [
    {
      "cell_type": "markdown",
      "metadata": {
        "id": "view-in-github",
        "colab_type": "text"
      },
      "source": [
        "<a href=\"https://colab.research.google.com/github/CodewithTanzeel/Student-Score-Prediction/blob/main/StudentScorePrediction.ipynb\" target=\"_parent\"><img src=\"https://colab.research.google.com/assets/colab-badge.svg\" alt=\"Open In Colab\"/></a>"
      ]
    },
    {
      "cell_type": "code",
      "execution_count": 18,
      "metadata": {
        "id": "LFyMwzLkoLaV"
      },
      "outputs": [],
      "source": [
        "# Cell 1: Imports and settings\n",
        "# Formal comments are included as requested.\n",
        "import os\n",
        "import pandas as pd\n",
        "import numpy as np\n",
        "import matplotlib.pyplot as plt\n",
        "from sklearn.model_selection import train_test_split\n",
        "from sklearn.linear_model import LinearRegression\n",
        "from sklearn.metrics import mean_absolute_error, mean_squared_error, r2_score\n",
        "from sklearn.preprocessing import PolynomialFeatures\n",
        "# Make plots show inline when using Jupyter/Colab\n",
        "# (If running in a plain script this has no effect.)\n",
        "# %matplotlib inline\n",
        "\n",
        "\n",
        "# Reproducible results\n",
        "RANDOM_STATE = 42\n",
        "\n",
        "# Output folder for saved plots and results\n",
        "OUT_DIR = 'student_score_outputs'\n",
        "os.makedirs(OUT_DIR, exist_ok=True)"
      ]
    },
    {
      "cell_type": "code",
      "source": [
        "# Cell 2: Load dataset\n",
        "# Configure your CSV path here. Replace if necessary.\n",
        "DATA_PATH = 'student_scores.csv' # <-- change to your file path\n",
        "\n",
        "\n",
        "# Load the CSV into a DataFrame and show basic info\n",
        "try:\n",
        " df = pd.read_csv('/content/StudentPerformanceFactors.csv')\n",
        "except FileNotFoundError:\n",
        " raise FileNotFoundError(f\"Could not find the file at {\"/content/StudentPerformanceFactors.csv\"}. Please update DATA_PATH to your CSV's path.\")\n",
        "\n",
        "\n",
        "# Display basic info for quick inspection\n",
        "print('Columns:', df.columns.tolist())\n",
        "print('\\nFirst 5 rows:')\n",
        "print(df.head().to_string(index=False))\n",
        "print('\\nDataset info:')\n",
        "df.info()\n",
        "print('\\nNumeric summary:')\n",
        "print(df.describe().round(2))"
      ],
      "metadata": {
        "colab": {
          "base_uri": "https://localhost:8080/"
        },
        "id": "q9Xuep8AoV4G",
        "outputId": "d94538fc-696a-48b9-8b5b-36296e3320eb"
      },
      "execution_count": 2,
      "outputs": [
        {
          "output_type": "stream",
          "name": "stdout",
          "text": [
            "Columns: ['Hours_Studied', 'Attendance', 'Parental_Involvement', 'Access_to_Resources', 'Extracurricular_Activities', 'Sleep_Hours', 'Previous_Scores', 'Motivation_Level', 'Internet_Access', 'Tutoring_Sessions', 'Family_Income', 'Teacher_Quality', 'School_Type', 'Peer_Influence', 'Physical_Activity', 'Learning_Disabilities', 'Parental_Education_Level', 'Distance_from_Home', 'Gender', 'Exam_Score']\n",
            "\n",
            "First 5 rows:\n",
            " Hours_Studied  Attendance Parental_Involvement Access_to_Resources Extracurricular_Activities  Sleep_Hours  Previous_Scores Motivation_Level Internet_Access  Tutoring_Sessions Family_Income Teacher_Quality School_Type Peer_Influence  Physical_Activity Learning_Disabilities Parental_Education_Level Distance_from_Home Gender  Exam_Score\n",
            "            23          84                  Low                High                         No            7               73              Low             Yes                  0           Low          Medium      Public       Positive                  3                    No              High School               Near   Male          67\n",
            "            19          64                  Low              Medium                         No            8               59              Low             Yes                  2        Medium          Medium      Public       Negative                  4                    No                  College           Moderate Female          61\n",
            "            24          98               Medium              Medium                        Yes            7               91           Medium             Yes                  2        Medium          Medium      Public        Neutral                  4                    No             Postgraduate               Near   Male          74\n",
            "            29          89                  Low              Medium                        Yes            8               98           Medium             Yes                  1        Medium          Medium      Public       Negative                  4                    No              High School           Moderate   Male          71\n",
            "            19          92               Medium              Medium                        Yes            6               65           Medium             Yes                  3        Medium            High      Public        Neutral                  4                    No                  College               Near Female          70\n",
            "\n",
            "Dataset info:\n",
            "<class 'pandas.core.frame.DataFrame'>\n",
            "RangeIndex: 6607 entries, 0 to 6606\n",
            "Data columns (total 20 columns):\n",
            " #   Column                      Non-Null Count  Dtype \n",
            "---  ------                      --------------  ----- \n",
            " 0   Hours_Studied               6607 non-null   int64 \n",
            " 1   Attendance                  6607 non-null   int64 \n",
            " 2   Parental_Involvement        6607 non-null   object\n",
            " 3   Access_to_Resources         6607 non-null   object\n",
            " 4   Extracurricular_Activities  6607 non-null   object\n",
            " 5   Sleep_Hours                 6607 non-null   int64 \n",
            " 6   Previous_Scores             6607 non-null   int64 \n",
            " 7   Motivation_Level            6607 non-null   object\n",
            " 8   Internet_Access             6607 non-null   object\n",
            " 9   Tutoring_Sessions           6607 non-null   int64 \n",
            " 10  Family_Income               6607 non-null   object\n",
            " 11  Teacher_Quality             6529 non-null   object\n",
            " 12  School_Type                 6607 non-null   object\n",
            " 13  Peer_Influence              6607 non-null   object\n",
            " 14  Physical_Activity           6607 non-null   int64 \n",
            " 15  Learning_Disabilities       6607 non-null   object\n",
            " 16  Parental_Education_Level    6517 non-null   object\n",
            " 17  Distance_from_Home          6540 non-null   object\n",
            " 18  Gender                      6607 non-null   object\n",
            " 19  Exam_Score                  6607 non-null   int64 \n",
            "dtypes: int64(7), object(13)\n",
            "memory usage: 1.0+ MB\n",
            "\n",
            "Numeric summary:\n",
            "       Hours_Studied  Attendance  Sleep_Hours  Previous_Scores  \\\n",
            "count        6607.00     6607.00      6607.00          6607.00   \n",
            "mean           19.98       79.98         7.03            75.07   \n",
            "std             5.99       11.55         1.47            14.40   \n",
            "min             1.00       60.00         4.00            50.00   \n",
            "25%            16.00       70.00         6.00            63.00   \n",
            "50%            20.00       80.00         7.00            75.00   \n",
            "75%            24.00       90.00         8.00            88.00   \n",
            "max            44.00      100.00        10.00           100.00   \n",
            "\n",
            "       Tutoring_Sessions  Physical_Activity  Exam_Score  \n",
            "count            6607.00            6607.00     6607.00  \n",
            "mean                1.49               2.97       67.24  \n",
            "std                 1.23               1.03        3.89  \n",
            "min                 0.00               0.00       55.00  \n",
            "25%                 1.00               2.00       65.00  \n",
            "50%                 1.00               3.00       67.00  \n",
            "75%                 2.00               4.00       69.00  \n",
            "max                 8.00               6.00      101.00  \n"
          ]
        }
      ]
    },
    {
      "cell_type": "code",
      "source": [
        "# Preview dataset\n",
        "print(df.head())\n"
      ],
      "metadata": {
        "colab": {
          "base_uri": "https://localhost:8080/"
        },
        "id": "dqjfBqmyobZ4",
        "outputId": "5d32a72e-a343-4ca6-aeab-68fc8d8fdbdc"
      },
      "execution_count": 3,
      "outputs": [
        {
          "output_type": "stream",
          "name": "stdout",
          "text": [
            "   Hours_Studied  Attendance Parental_Involvement Access_to_Resources  \\\n",
            "0             23          84                  Low                High   \n",
            "1             19          64                  Low              Medium   \n",
            "2             24          98               Medium              Medium   \n",
            "3             29          89                  Low              Medium   \n",
            "4             19          92               Medium              Medium   \n",
            "\n",
            "  Extracurricular_Activities  Sleep_Hours  Previous_Scores Motivation_Level  \\\n",
            "0                         No            7               73              Low   \n",
            "1                         No            8               59              Low   \n",
            "2                        Yes            7               91           Medium   \n",
            "3                        Yes            8               98           Medium   \n",
            "4                        Yes            6               65           Medium   \n",
            "\n",
            "  Internet_Access  Tutoring_Sessions Family_Income Teacher_Quality  \\\n",
            "0             Yes                  0           Low          Medium   \n",
            "1             Yes                  2        Medium          Medium   \n",
            "2             Yes                  2        Medium          Medium   \n",
            "3             Yes                  1        Medium          Medium   \n",
            "4             Yes                  3        Medium            High   \n",
            "\n",
            "  School_Type Peer_Influence  Physical_Activity Learning_Disabilities  \\\n",
            "0      Public       Positive                  3                    No   \n",
            "1      Public       Negative                  4                    No   \n",
            "2      Public        Neutral                  4                    No   \n",
            "3      Public       Negative                  4                    No   \n",
            "4      Public        Neutral                  4                    No   \n",
            "\n",
            "  Parental_Education_Level Distance_from_Home  Gender  Exam_Score  \n",
            "0              High School               Near    Male          67  \n",
            "1                  College           Moderate  Female          61  \n",
            "2             Postgraduate               Near    Male          74  \n",
            "3              High School           Moderate    Male          71  \n",
            "4                  College               Near  Female          70  \n"
          ]
        }
      ]
    },
    {
      "cell_type": "code",
      "source": [
        "# Step 3: Data Preprocessing\n",
        "# Check for missing values\n",
        "print(\"Missing values before:\")\n",
        "print(df.isnull().sum())\n",
        "\n"
      ],
      "metadata": {
        "colab": {
          "base_uri": "https://localhost:8080/"
        },
        "id": "HkBnLJVGqkJI",
        "outputId": "1c11af06-b283-4bb7-bd94-5955aaf2721d"
      },
      "execution_count": 4,
      "outputs": [
        {
          "output_type": "stream",
          "name": "stdout",
          "text": [
            "Missing values before:\n",
            "Hours_Studied                  0\n",
            "Attendance                     0\n",
            "Parental_Involvement           0\n",
            "Access_to_Resources            0\n",
            "Extracurricular_Activities     0\n",
            "Sleep_Hours                    0\n",
            "Previous_Scores                0\n",
            "Motivation_Level               0\n",
            "Internet_Access                0\n",
            "Tutoring_Sessions              0\n",
            "Family_Income                  0\n",
            "Teacher_Quality               78\n",
            "School_Type                    0\n",
            "Peer_Influence                 0\n",
            "Physical_Activity              0\n",
            "Learning_Disabilities          0\n",
            "Parental_Education_Level      90\n",
            "Distance_from_Home            67\n",
            "Gender                         0\n",
            "Exam_Score                     0\n",
            "dtype: int64\n"
          ]
        }
      ]
    },
    {
      "cell_type": "code",
      "source": [
        "# Drop rows with missing values (if any)\n",
        "df = df.dropna()\n"
      ],
      "metadata": {
        "id": "1NDDjH6yqqCQ"
      },
      "execution_count": 5,
      "outputs": []
    },
    {
      "cell_type": "code",
      "source": [
        "# Check again\n",
        "print(\"Missing values after:\")\n",
        "print(df.isnull().sum())\n"
      ],
      "metadata": {
        "colab": {
          "base_uri": "https://localhost:8080/"
        },
        "id": "jX8Sq0MNqvfg",
        "outputId": "94d1e0c1-b336-4c97-fe1f-dffd4e8bf7f3"
      },
      "execution_count": 6,
      "outputs": [
        {
          "output_type": "stream",
          "name": "stdout",
          "text": [
            "Missing values after:\n",
            "Hours_Studied                 0\n",
            "Attendance                    0\n",
            "Parental_Involvement          0\n",
            "Access_to_Resources           0\n",
            "Extracurricular_Activities    0\n",
            "Sleep_Hours                   0\n",
            "Previous_Scores               0\n",
            "Motivation_Level              0\n",
            "Internet_Access               0\n",
            "Tutoring_Sessions             0\n",
            "Family_Income                 0\n",
            "Teacher_Quality               0\n",
            "School_Type                   0\n",
            "Peer_Influence                0\n",
            "Physical_Activity             0\n",
            "Learning_Disabilities         0\n",
            "Parental_Education_Level      0\n",
            "Distance_from_Home            0\n",
            "Gender                        0\n",
            "Exam_Score                    0\n",
            "dtype: int64\n"
          ]
        }
      ]
    },
    {
      "cell_type": "code",
      "source": [
        "# Basic statistics\n",
        "print(df[['Hours_Studied','Exam_Score']].describe())"
      ],
      "metadata": {
        "colab": {
          "base_uri": "https://localhost:8080/"
        },
        "id": "31Zrq0tTq3LK",
        "outputId": "102ffee9-5d4f-49e4-99a5-f62215dd4b70"
      },
      "execution_count": 7,
      "outputs": [
        {
          "output_type": "stream",
          "name": "stdout",
          "text": [
            "       Hours_Studied   Exam_Score\n",
            "count    6378.000000  6378.000000\n",
            "mean       19.977109    67.252117\n",
            "std         5.985460     3.914217\n",
            "min         1.000000    55.000000\n",
            "25%        16.000000    65.000000\n",
            "50%        20.000000    67.000000\n",
            "75%        24.000000    69.000000\n",
            "max        44.000000   101.000000\n"
          ]
        }
      ]
    },
    {
      "cell_type": "code",
      "source": [
        "# Outlier Removal using IQR (Interquartile Range)\n",
        "\n",
        "# Calculate Q1 (25th percentile) and Q3 (75th percentile) for Hours_studied and Exam_Score\n",
        "Q1_hours = df['Hours_Studied'].quantile(0.25)\n",
        "Q3_hours = df['Hours_Studied'].quantile(0.75)\n",
        "IQR_hours = Q3_hours - Q1_hours\n",
        "\n",
        "Q1_score = df['Exam_Score'].quantile(0.25)\n",
        "Q3_score = df['Exam_Score'].quantile(0.75)\n",
        "IQR_score = Q3_score - Q1_score\n",
        "\n",
        "# Define bounds for Hours_studied\n",
        "lower_bound_hours = Q1_hours - 1.5 * IQR_hours\n",
        "upper_bound_hours = Q3_hours + 1.5 * IQR_hours\n",
        "\n",
        "# Define bounds for Exam_Score\n",
        "lower_bound_score = Q1_score - 1.5 * IQR_score\n",
        "upper_bound_score = Q3_score + 1.5 * IQR_score\n",
        "\n",
        "# Filter dataset (keep only rows within bounds)\n",
        "df = df[\n",
        "    (df['Hours_Studied'] >= lower_bound_hours) & (df['Hours_Studied'] <= upper_bound_hours) &\n",
        "    (df['Exam_Score'] >= lower_bound_score) & (df['Exam_Score'] <= upper_bound_score)\n",
        "]\n",
        "\n",
        "print(\"Data after removing outliers:\", df.shape)\n"
      ],
      "metadata": {
        "colab": {
          "base_uri": "https://localhost:8080/"
        },
        "id": "Z_aBvJlDudt7",
        "outputId": "c73bc4d4-5a07-4ef1-f06d-b173b156b662"
      },
      "execution_count": 8,
      "outputs": [
        {
          "output_type": "stream",
          "name": "stdout",
          "text": [
            "Data after removing outliers: (6248, 20)\n"
          ]
        }
      ]
    },
    {
      "cell_type": "code",
      "source": [
        "# Step 4: Exploratory Data Visualization\n",
        "plt.scatter(df['Hours_Studied'], df['Exam_Score'], color=\"blue\")\n",
        "plt.xlabel(\"Study Hours\")\n",
        "plt.ylabel(\"Exam Score\")\n",
        "plt.title(\"Study Hours vs Exam Score (Raw Data)\")\n",
        "plt.show()"
      ],
      "metadata": {
        "colab": {
          "base_uri": "https://localhost:8080/",
          "height": 472
        },
        "id": "pYIi2HxSq8VW",
        "outputId": "7bbe088c-f9e0-4fe2-8e3c-b9a9a98db3d8"
      },
      "execution_count": 9,
      "outputs": [
        {
          "output_type": "display_data",
          "data": {
            "text/plain": [
              "<Figure size 640x480 with 1 Axes>"
            ],
            "image/png": "[encoded data removed]"
          },
          "metadata": {}
        }
      ]
    },
    {
      "cell_type": "code",
      "source": [
        "X = df[['Hours_Studied']] # Feature\n",
        "y = df['Exam_Score'] # Target"
      ],
      "metadata": {
        "id": "sXZJJzRbrtt-"
      },
      "execution_count": 10,
      "outputs": []
    },
    {
      "cell_type": "code",
      "source": [
        "# Step 6: Split dataset into train and test sets\n",
        "X_train, X_test, y_train, y_test = train_test_split(X, y, test_size=0.2, random_state=42)"
      ],
      "metadata": {
        "id": "PuTceyH3saDy"
      },
      "execution_count": 11,
      "outputs": []
    },
    {
      "cell_type": "code",
      "source": [
        "model = LinearRegression()\n",
        "model.fit(X_train, y_train)"
      ],
      "metadata": {
        "colab": {
          "base_uri": "https://localhost:8080/",
          "height": 80
        },
        "id": "Elx43utQshuL",
        "outputId": "db112b3d-bde1-4b88-8e3c-d1c5094d88d2"
      },
      "execution_count": 12,
      "outputs": [
        {
          "output_type": "execute_result",
          "data": {
            "text/plain": [
              "LinearRegression()"
            ],
            "text/html": [
              "<style>#sk-container-id-1 {\n",
              "  /* Definition of color scheme common for light and dark mode */\n",
              "  --sklearn-color-text: #000;\n",
              "  --sklearn-color-text-muted: #666;\n",
              "  --sklearn-color-line: gray;\n",
              "  /* Definition of color scheme for unfitted estimators */\n",
              "  --sklearn-color-unfitted-level-0: #fff5e6;\n",
              "  --sklearn-color-unfitted-level-1: #f6e4d2;\n",
              "  --sklearn-color-unfitted-level-2: #ffe0b3;\n",
              "  --sklearn-color-unfitted-level-3: chocolate;\n",
              "  /* Definition of color scheme for fitted estimators */\n",
              "  --sklearn-color-fitted-level-0: #f0f8ff;\n",
              "  --sklearn-color-fitted-level-1: #d4ebff;\n",
              "  --sklearn-color-fitted-level-2: #b3dbfd;\n",
              "  --sklearn-color-fitted-level-3: cornflowerblue;\n",
              "\n",
              "  /* Specific color for light theme */\n",
              "  --sklearn-color-text-on-default-background: var(--sg-text-color, var(--theme-code-foreground, var(--jp-content-font-color1, black)));\n",
              "  --sklearn-color-background: var(--sg-background-color, var(--theme-background, var(--jp-layout-color0, white)));\n",
              "  --sklearn-color-border-box: var(--sg-text-color, var(--theme-code-foreground, var(--jp-content-font-color1, black)));\n",
              "  --sklearn-color-icon: #696969;\n",
              "\n",
              "  @media (prefers-color-scheme: dark) {\n",
              "    /* Redefinition of color scheme for dark theme */\n",
              "    --sklearn-color-text-on-default-background: var(--sg-text-color, var(--theme-code-foreground, var(--jp-content-font-color1, white)));\n",
              "    --sklearn-color-background: var(--sg-background-color, var(--theme-background, var(--jp-layout-color0, #111)));\n",
              "    --sklearn-color-border-box: var(--sg-text-color, var(--theme-code-foreground, var(--jp-content-font-color1, white)));\n",
              "    --sklearn-color-icon: #878787;\n",
              "  }\n",
              "}\n",
              "\n",
              "#sk-container-id-1 {\n",
              "  color: var(--sklearn-color-text);\n",
              "}\n",
              "\n",
              "#sk-container-id-1 pre {\n",
              "  padding: 0;\n",
              "}\n",
              "\n",
              "#sk-container-id-1 input.sk-hidden--visually {\n",
              "  border: 0;\n",
              "  clip: rect(1px 1px 1px 1px);\n",
              "  clip: rect(1px, 1px, 1px, 1px);\n",
              "  height: 1px;\n",
              "  margin: -1px;\n",
              "  overflow: hidden;\n",
              "  padding: 0;\n",
              "  position: absolute;\n",
              "  width: 1px;\n",
              "}\n",
              "\n",
              "#sk-container-id-1 div.sk-dashed-wrapped {\n",
              "  border: 1px dashed var(--sklearn-color-line);\n",
              "  margin: 0 0.4em 0.5em 0.4em;\n",
              "  box-sizing: border-box;\n",
              "  padding-bottom: 0.4em;\n",
              "  background-color: var(--sklearn-color-background);\n",
              "}\n",
              "\n",
              "#sk-container-id-1 div.sk-container {\n",
              "  /* jupyter's `normalize.less` sets `[hidden] { display: none; }`\n",
              "     but bootstrap.min.css set `[hidden] { display: none !important; }`\n",
              "     so we also need the `!important` here to be able to override the\n",
              "     default hidden behavior on the sphinx rendered scikit-learn.org.\n",
              "     See: https://github.com/scikit-learn/scikit-learn/issues/21755 */\n",
              "  display: inline-block !important;\n",
              "  position: relative;\n",
              "}\n",
              "\n",
              "#sk-container-id-1 div.sk-text-repr-fallback {\n",
              "  display: none;\n",
              "}\n",
              "\n",
              "div.sk-parallel-item,\n",
              "div.sk-serial,\n",
              "div.sk-item {\n",
              "  /* draw centered vertical line to link estimators */\n",
              "  background-image: linear-gradient(var(--sklearn-color-text-on-default-background), var(--sklearn-color-text-on-default-background));\n",
              "  background-size: 2px 100%;\n",
              "  background-repeat: no-repeat;\n",
              "  background-position: center center;\n",
              "}\n",
              "\n",
              "/* Parallel-specific style estimator block */\n",
              "\n",
              "#sk-container-id-1 div.sk-parallel-item::after {\n",
              "  content: \"\";\n",
              "  width: 100%;\n",
              "  border-bottom: 2px solid var(--sklearn-color-text-on-default-background);\n",
              "  flex-grow: 1;\n",
              "}\n",
              "\n",
              "#sk-container-id-1 div.sk-parallel {\n",
              "  display: flex;\n",
              "  align-items: stretch;\n",
              "  justify-content: center;\n",
              "  background-color: var(--sklearn-color-background);\n",
              "  position: relative;\n",
              "}\n",
              "\n",
              "#sk-container-id-1 div.sk-parallel-item {\n",
              "  display: flex;\n",
              "  flex-direction: column;\n",
              "}\n",
              "\n",
              "#sk-container-id-1 div.sk-parallel-item:first-child::after {\n",
              "  align-self: flex-end;\n",
              "  width: 50%;\n",
              "}\n",
              "\n",
              "#sk-container-id-1 div.sk-parallel-item:last-child::after {\n",
              "  align-self: flex-start;\n",
              "  width: 50%;\n",
              "}\n",
              "\n",
              "#sk-container-id-1 div.sk-parallel-item:only-child::after {\n",
              "  width: 0;\n",
              "}\n",
              "\n",
              "/* Serial-specific style estimator block */\n",
              "\n",
              "#sk-container-id-1 div.sk-serial {\n",
              "  display: flex;\n",
              "  flex-direction: column;\n",
              "  align-items: center;\n",
              "  background-color: var(--sklearn-color-background);\n",
              "  padding-right: 1em;\n",
              "  padding-left: 1em;\n",
              "}\n",
              "\n",
              "\n",
              "/* Toggleable style: style used for estimator/Pipeline/ColumnTransformer box that is\n",
              "clickable and can be expanded/collapsed.\n",
              "- Pipeline and ColumnTransformer use this feature and define the default style\n",
              "- Estimators will overwrite some part of the style using the `sk-estimator` class\n",
              "*/\n",
              "\n",
              "/* Pipeline and ColumnTransformer style (default) */\n",
              "\n",
              "#sk-container-id-1 div.sk-toggleable {\n",
              "  /* Default theme specific background. It is overwritten whether we have a\n",
              "  specific estimator or a Pipeline/ColumnTransformer */\n",
              "  background-color: var(--sklearn-color-background);\n",
              "}\n",
              "\n",
              "/* Toggleable label */\n",
              "#sk-container-id-1 label.sk-toggleable__label {\n",
              "  cursor: pointer;\n",
              "  display: flex;\n",
              "  width: 100%;\n",
              "  margin-bottom: 0;\n",
              "  padding: 0.5em;\n",
              "  box-sizing: border-box;\n",
              "  text-align: center;\n",
              "  align-items: start;\n",
              "  justify-content: space-between;\n",
              "  gap: 0.5em;\n",
              "}\n",
              "\n",
              "#sk-container-id-1 label.sk-toggleable__label .caption {\n",
              "  font-size: 0.6rem;\n",
              "  font-weight: lighter;\n",
              "  color: var(--sklearn-color-text-muted);\n",
              "}\n",
              "\n",
              "#sk-container-id-1 label.sk-toggleable__label-arrow:before {\n",
              "  /* Arrow on the left of the label */\n",
              "  content: \"▸\";\n",
              "  float: left;\n",
              "  margin-right: 0.25em;\n",
              "  color: var(--sklearn-color-icon);\n",
              "}\n",
              "\n",
              "#sk-container-id-1 label.sk-toggleable__label-arrow:hover:before {\n",
              "  color: var(--sklearn-color-text);\n",
              "}\n",
              "\n",
              "/* Toggleable content - dropdown */\n",
              "\n",
              "#sk-container-id-1 div.sk-toggleable__content {\n",
              "  max-height: 0;\n",
              "  max-width: 0;\n",
              "  overflow: hidden;\n",
              "  text-align: left;\n",
              "  /* unfitted */\n",
              "  background-color: var(--sklearn-color-unfitted-level-0);\n",
              "}\n",
              "\n",
              "#sk-container-id-1 div.sk-toggleable__content.fitted {\n",
              "  /* fitted */\n",
              "  background-color: var(--sklearn-color-fitted-level-0);\n",
              "}\n",
              "\n",
              "#sk-container-id-1 div.sk-toggleable__content pre {\n",
              "  margin: 0.2em;\n",
              "  border-radius: 0.25em;\n",
              "  color: var(--sklearn-color-text);\n",
              "  /* unfitted */\n",
              "  background-color: var(--sklearn-color-unfitted-level-0);\n",
              "}\n",
              "\n",
              "#sk-container-id-1 div.sk-toggleable__content.fitted pre {\n",
              "  /* unfitted */\n",
              "  background-color: var(--sklearn-color-fitted-level-0);\n",
              "}\n",
              "\n",
              "#sk-container-id-1 input.sk-toggleable__control:checked~div.sk-toggleable__content {\n",
              "  /* Expand drop-down */\n",
              "  max-height: 200px;\n",
              "  max-width: 100%;\n",
              "  overflow: auto;\n",
              "}\n",
              "\n",
              "#sk-container-id-1 input.sk-toggleable__control:checked~label.sk-toggleable__label-arrow:before {\n",
              "  content: \"▾\";\n",
              "}\n",
              "\n",
              "/* Pipeline/ColumnTransformer-specific style */\n",
              "\n",
              "#sk-container-id-1 div.sk-label input.sk-toggleable__control:checked~label.sk-toggleable__label {\n",
              "  color: var(--sklearn-color-text);\n",
              "  background-color: var(--sklearn-color-unfitted-level-2);\n",
              "}\n",
              "\n",
              "#sk-container-id-1 div.sk-label.fitted input.sk-toggleable__control:checked~label.sk-toggleable__label {\n",
              "  background-color: var(--sklearn-color-fitted-level-2);\n",
              "}\n",
              "\n",
              "/* Estimator-specific style */\n",
              "\n",
              "/* Colorize estimator box */\n",
              "#sk-container-id-1 div.sk-estimator input.sk-toggleable__control:checked~label.sk-toggleable__label {\n",
              "  /* unfitted */\n",
              "  background-color: var(--sklearn-color-unfitted-level-2);\n",
              "}\n",
              "\n",
              "#sk-container-id-1 div.sk-estimator.fitted input.sk-toggleable__control:checked~label.sk-toggleable__label {\n",
              "  /* fitted */\n",
              "  background-color: var(--sklearn-color-fitted-level-2);\n",
              "}\n",
              "\n",
              "#sk-container-id-1 div.sk-label label.sk-toggleable__label,\n",
              "#sk-container-id-1 div.sk-label label {\n",
              "  /* The background is the default theme color */\n",
              "  color: var(--sklearn-color-text-on-default-background);\n",
              "}\n",
              "\n",
              "/* On hover, darken the color of the background */\n",
              "#sk-container-id-1 div.sk-label:hover label.sk-toggleable__label {\n",
              "  color: var(--sklearn-color-text);\n",
              "  background-color: var(--sklearn-color-unfitted-level-2);\n",
              "}\n",
              "\n",
              "/* Label box, darken color on hover, fitted */\n",
              "#sk-container-id-1 div.sk-label.fitted:hover label.sk-toggleable__label.fitted {\n",
              "  color: var(--sklearn-color-text);\n",
              "  background-color: var(--sklearn-color-fitted-level-2);\n",
              "}\n",
              "\n",
              "/* Estimator label */\n",
              "\n",
              "#sk-container-id-1 div.sk-label label {\n",
              "  font-family: monospace;\n",
              "  font-weight: bold;\n",
              "  display: inline-block;\n",
              "  line-height: 1.2em;\n",
              "}\n",
              "\n",
              "#sk-container-id-1 div.sk-label-container {\n",
              "  text-align: center;\n",
              "}\n",
              "\n",
              "/* Estimator-specific */\n",
              "#sk-container-id-1 div.sk-estimator {\n",
              "  font-family: monospace;\n",
              "  border: 1px dotted var(--sklearn-color-border-box);\n",
              "  border-radius: 0.25em;\n",
              "  box-sizing: border-box;\n",
              "  margin-bottom: 0.5em;\n",
              "  /* unfitted */\n",
              "  background-color: var(--sklearn-color-unfitted-level-0);\n",
              "}\n",
              "\n",
              "#sk-container-id-1 div.sk-estimator.fitted {\n",
              "  /* fitted */\n",
              "  background-color: var(--sklearn-color-fitted-level-0);\n",
              "}\n",
              "\n",
              "/* on hover */\n",
              "#sk-container-id-1 div.sk-estimator:hover {\n",
              "  /* unfitted */\n",
              "  background-color: var(--sklearn-color-unfitted-level-2);\n",
              "}\n",
              "\n",
              "#sk-container-id-1 div.sk-estimator.fitted:hover {\n",
              "  /* fitted */\n",
              "  background-color: var(--sklearn-color-fitted-level-2);\n",
              "}\n",
              "\n",
              "/* Specification for estimator info (e.g. \"i\" and \"?\") */\n",
              "\n",
              "/* Common style for \"i\" and \"?\" */\n",
              "\n",
              ".sk-estimator-doc-link,\n",
              "a:link.sk-estimator-doc-link,\n",
              "a:visited.sk-estimator-doc-link {\n",
              "  float: right;\n",
              "  font-size: smaller;\n",
              "  line-height: 1em;\n",
              "  font-family: monospace;\n",
              "  background-color: var(--sklearn-color-background);\n",
              "  border-radius: 1em;\n",
              "  height: 1em;\n",
              "  width: 1em;\n",
              "  text-decoration: none !important;\n",
              "  margin-left: 0.5em;\n",
              "  text-align: center;\n",
              "  /* unfitted */\n",
              "  border: var(--sklearn-color-unfitted-level-1) 1pt solid;\n",
              "  color: var(--sklearn-color-unfitted-level-1);\n",
              "}\n",
              "\n",
              ".sk-estimator-doc-link.fitted,\n",
              "a:link.sk-estimator-doc-link.fitted,\n",
              "a:visited.sk-estimator-doc-link.fitted {\n",
              "  /* fitted */\n",
              "  border: var(--sklearn-color-fitted-level-1) 1pt solid;\n",
              "  color: var(--sklearn-color-fitted-level-1);\n",
              "}\n",
              "\n",
              "/* On hover */\n",
              "div.sk-estimator:hover .sk-estimator-doc-link:hover,\n",
              ".sk-estimator-doc-link:hover,\n",
              "div.sk-label-container:hover .sk-estimator-doc-link:hover,\n",
              ".sk-estimator-doc-link:hover {\n",
              "  /* unfitted */\n",
              "  background-color: var(--sklearn-color-unfitted-level-3);\n",
              "  color: var(--sklearn-color-background);\n",
              "  text-decoration: none;\n",
              "}\n",
              "\n",
              "div.sk-estimator.fitted:hover .sk-estimator-doc-link.fitted:hover,\n",
              ".sk-estimator-doc-link.fitted:hover,\n",
              "div.sk-label-container:hover .sk-estimator-doc-link.fitted:hover,\n",
              ".sk-estimator-doc-link.fitted:hover {\n",
              "  /* fitted */\n",
              "  background-color: var(--sklearn-color-fitted-level-3);\n",
              "  color: var(--sklearn-color-background);\n",
              "  text-decoration: none;\n",
              "}\n",
              "\n",
              "/* Span, style for the box shown on hovering the info icon */\n",
              ".sk-estimator-doc-link span {\n",
              "  display: none;\n",
              "  z-index: 9999;\n",
              "  position: relative;\n",
              "  font-weight: normal;\n",
              "  right: .2ex;\n",
              "  padding: .5ex;\n",
              "  margin: .5ex;\n",
              "  width: min-content;\n",
              "  min-width: 20ex;\n",
              "  max-width: 50ex;\n",
              "  color: var(--sklearn-color-text);\n",
              "  box-shadow: 2pt 2pt 4pt #999;\n",
              "  /* unfitted */\n",
              "  background: var(--sklearn-color-unfitted-level-0);\n",
              "  border: .5pt solid var(--sklearn-color-unfitted-level-3);\n",
              "}\n",
              "\n",
              ".sk-estimator-doc-link.fitted span {\n",
              "  /* fitted */\n",
              "  background: var(--sklearn-color-fitted-level-0);\n",
              "  border: var(--sklearn-color-fitted-level-3);\n",
              "}\n",
              "\n",
              ".sk-estimator-doc-link:hover span {\n",
              "  display: block;\n",
              "}\n",
              "\n",
              "/* \"?\"-specific style due to the `<a>` HTML tag */\n",
              "\n",
              "#sk-container-id-1 a.estimator_doc_link {\n",
              "  float: right;\n",
              "  font-size: 1rem;\n",
              "  line-height: 1em;\n",
              "  font-family: monospace;\n",
              "  background-color: var(--sklearn-color-background);\n",
              "  border-radius: 1rem;\n",
              "  height: 1rem;\n",
              "  width: 1rem;\n",
              "  text-decoration: none;\n",
              "  /* unfitted */\n",
              "  color: var(--sklearn-color-unfitted-level-1);\n",
              "  border: var(--sklearn-color-unfitted-level-1) 1pt solid;\n",
              "}\n",
              "\n",
              "#sk-container-id-1 a.estimator_doc_link.fitted {\n",
              "  /* fitted */\n",
              "  border: var(--sklearn-color-fitted-level-1) 1pt solid;\n",
              "  color: var(--sklearn-color-fitted-level-1);\n",
              "}\n",
              "\n",
              "/* On hover */\n",
              "#sk-container-id-1 a.estimator_doc_link:hover {\n",
              "  /* unfitted */\n",
              "  background-color: var(--sklearn-color-unfitted-level-3);\n",
              "  color: var(--sklearn-color-background);\n",
              "  text-decoration: none;\n",
              "}\n",
              "\n",
              "#sk-container-id-1 a.estimator_doc_link.fitted:hover {\n",
              "  /* fitted */\n",
              "  background-color: var(--sklearn-color-fitted-level-3);\n",
              "}\n",
              "</style><div id=\"sk-container-id-1\" class=\"sk-top-container\"><div class=\"sk-text-repr-fallback\"><pre>LinearRegression()</pre><b>In a Jupyter environment, please rerun this cell to show the HTML representation or trust the notebook. <br />On GitHub, the HTML representation is unable to render, please try loading this page with nbviewer.org.</b></div><div class=\"sk-container\" hidden><div class=\"sk-item\"><div class=\"sk-estimator fitted sk-toggleable\"><input class=\"sk-toggleable__control sk-hidden--visually\" id=\"sk-estimator-id-1\" type=\"checkbox\" checked><label for=\"sk-estimator-id-1\" class=\"sk-toggleable__label fitted sk-toggleable__label-arrow\"><div><div>LinearRegression</div></div><div><a class=\"sk-estimator-doc-link fitted\" rel=\"noreferrer\" target=\"_blank\" href=\"https://scikit-learn.org/1.6/modules/generated/sklearn.linear_model.LinearRegression.html\">?<span>Documentation for LinearRegression</span></a><span class=\"sk-estimator-doc-link fitted\">i<span>Fitted</span></span></div></label><div class=\"sk-toggleable__content fitted\"><pre>LinearRegression()</pre></div> </div></div></div></div>"
            ]
          },
          "metadata": {},
          "execution_count": 12
        }
      ]
    },
    {
      "cell_type": "code",
      "source": [
        "print(\"Regression Equation: Score = {:.2f} * Hours + {:.2f}\".format(model.coef_[0], model.intercept_))"
      ],
      "metadata": {
        "colab": {
          "base_uri": "https://localhost:8080/"
        },
        "id": "cYUgh5T8slih",
        "outputId": "d6f11b55-4f2a-4855-9ae5-284c0208535f"
      },
      "execution_count": 13,
      "outputs": [
        {
          "output_type": "stream",
          "name": "stdout",
          "text": [
            "Regression Equation: Score = 0.28 * Hours + 61.53\n"
          ]
        }
      ]
    },
    {
      "cell_type": "code",
      "source": [
        "# Step 8: Make predictions\n",
        "y_pred = model.predict(X_test)"
      ],
      "metadata": {
        "id": "78QZGjLUsp6t"
      },
      "execution_count": 14,
      "outputs": []
    },
    {
      "cell_type": "code",
      "source": [
        "mse = mean_squared_error(y_test, y_pred)\n",
        "r2 = r2_score(y_test, y_pred)\n",
        "\n",
        "\n",
        "print(\"Mean Squared Error:\", mse)\n",
        "print(\"R² Score:\", r2)"
      ],
      "metadata": {
        "colab": {
          "base_uri": "https://localhost:8080/"
        },
        "id": "zPNocO8RtC5i",
        "outputId": "8ca1d268-bab0-4eef-a278-06e35e4d0eb7"
      },
      "execution_count": 15,
      "outputs": [
        {
          "output_type": "stream",
          "name": "stdout",
          "text": [
            "Mean Squared Error: 7.834989268338471\n",
            "R² Score: 0.24712790979566512\n"
          ]
        }
      ]
    },
    {
      "cell_type": "code",
      "source": [
        "# ----- Polynomial Regression (degree=2) -----\n",
        "poly = PolynomialFeatures(degree=2)\n",
        "X_train_poly = poly.fit_transform(X_train)\n",
        "X_test_poly = poly.transform(X_test)\n",
        "\n",
        "poly_reg = LinearRegression()\n",
        "poly_reg.fit(X_train_poly, y_train)\n",
        "y_pred_poly = poly_reg.predict(X_test_poly)\n",
        "oly_reg = LinearRegression()\n",
        "poly_reg.fit(X_train_poly, y_train)\n",
        "y_pred_poly = poly_reg.predict(X_test_poly)\n",
        "\n",
        "\n",
        "print(\"\\nPolynomial Regression (Degree=2):\")\n",
        "print(\"  R²:\", r2_score(y_test, y_pred_poly))\n",
        "print(\"  RMSE:\", np.sqrt(mean_squared_error(y_test, y_pred_poly)))"
      ],
      "metadata": {
        "id": "tLLjPy3qTSdP",
        "outputId": "ce4862a4-b1e0-4767-850b-d6a8e2af4922",
        "colab": {
          "base_uri": "https://localhost:8080/"
        }
      },
      "execution_count": 29,
      "outputs": [
        {
          "output_type": "stream",
          "name": "stdout",
          "text": [
            "\n",
            "Polynomial Regression (Degree=2):\n",
            "  R²: 0.24735037493970202\n",
            "  RMSE: 2.7986915010550035\n"
          ]
        }
      ]
    },
    {
      "cell_type": "code",
      "source": [
        "# ----- Visualization -----\n",
        "plt.scatter(X, y, color=\"blue\", label=\"Data\")\n",
        "\n",
        "# Linear line\n",
        "plt.plot(X_test, y_pred, color=\"red\", label=\"Linear Regression\")\n",
        "\n",
        "# Polynomial curve\n",
        "X_grid = np.linspace(X.min(), X.max(), 200).reshape(-1, 1)\n",
        "plt.plot(X_grid, poly_reg.predict(poly.transform(X_grid)),\n",
        "         color=\"green\", label=\"Polynomial Regression (deg=2)\")\n",
        "\n",
        "plt.xlabel(\"Hours_Studied\")\n",
        "plt.ylabel(\"Exam_Score\")\n",
        "plt.legend()\n",
        "plt.title(\"Linear vs Polynomial Regression\")\n",
        "plt.show()"
      ],
      "metadata": {
        "colab": {
          "base_uri": "https://localhost:8080/",
          "height": 529
        },
        "id": "gR5ZNqeHtF0R",
        "outputId": "bce0281f-99fc-405e-c9b9-ef8f5d22a596"
      },
      "execution_count": 30,
      "outputs": [
        {
          "output_type": "stream",
          "name": "stderr",
          "text": [
            "/usr/local/lib/python3.12/dist-packages/sklearn/utils/validation.py:2739: UserWarning: X does not have valid feature names, but PolynomialFeatures was fitted with feature names\n",
            "  warnings.warn(\n"
          ]
        },
        {
          "output_type": "display_data",
          "data": {
            "text/plain": [
              "<Figure size 640x480 with 1 Axes>"
            ],
            "image/png": "[encoded data removed]"
          },
          "metadata": {}
        }
      ]
    },
    {
      "cell_type": "code",
      "source": [
        "mse = mean_squared_error(y_test, y_pred)\n",
        "rmse = np.sqrt(mse)\n",
        "r2 = r2_score(y_test, y_pred)\n",
        "\n",
        "print(\"Mean Squared Error (MSE):\", mse)\n",
        "print(\"Root Mean Squared Error (RMSE):\", rmse)\n",
        "print(\"R² Score (Accuracy-like metric):\", r2)\n"
      ],
      "metadata": {
        "colab": {
          "base_uri": "https://localhost:8080/"
        },
        "id": "fu502l6ytPgd",
        "outputId": "fd1f48fc-3aa1-40aa-c109-845e33861375"
      },
      "execution_count": 31,
      "outputs": [
        {
          "output_type": "stream",
          "name": "stdout",
          "text": [
            "Mean Squared Error (MSE): 7.834989268338471\n",
            "Root Mean Squared Error (RMSE): 2.7991050834755153\n",
            "R² Score (Accuracy-like metric): 0.24712790979566512\n"
          ]
        }
      ]
    },
    {
      "cell_type": "code",
      "source": [],
      "metadata": {
        "id": "thaMZA7VVoqJ"
      },
      "execution_count": 31,
      "outputs": []
    }
  ]
}